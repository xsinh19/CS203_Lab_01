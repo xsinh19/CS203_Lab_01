{
  "nbformat": 4,
  "nbformat_minor": 0,
  "metadata": {
    "colab": {
      "provenance": []
    },
    "kernelspec": {
      "name": "python3",
      "display_name": "Python 3"
    },
    "language_info": {
      "name": "python"
    }
  },
  "cells": [
    {
      "cell_type": "code",
      "source": [
        "import pandas as pd\n",
        "import numpy as np\n",
        "from statsmodels.stats.proportion import proportions_ztest\n",
        "from scipy.stats import ks_2samp"
      ],
      "metadata": {
        "id": "2Zunfm_KrEGE"
      },
      "execution_count": 6,
      "outputs": []
    },
    {
      "cell_type": "code",
      "source": [
        "# A/B Testing\n",
        "df_ad = pd.read_csv('ad_click_dataset.csv')\n",
        "df_ad.dropna(inplace=True)\n",
        "\n",
        "group_A = df_ad[df_ad['ad_position'] == 'Top']\n",
        "group_B = df_ad[df_ad['ad_position'] == 'Bottom']\n",
        "\n",
        "count_clicks_A = group_A['click'].sum()\n",
        "count_clicks_B = group_B['click'].sum()\n",
        "nobs_A = len(group_A)\n",
        "nobs_B = len(group_B)\n",
        "\n",
        "z_stat, p_val = proportions_ztest([count_clicks_A, count_clicks_B], [nobs_A, nobs_B])\n",
        "print(\"A/B Testing Results\")\n",
        "print(\"Z-score:\", z_stat, \"| P-value:\", p_val)\n",
        "if p_val < 0.05:\n",
        "    print(\"CTR difference is statistically significant.\")\n",
        "else:\n",
        "    print(\"No statistically significant difference in click-through rates between Top and Bottom groups.\")\n"
      ],
      "metadata": {
        "colab": {
          "base_uri": "https://localhost:8080/"
        },
        "id": "1UCyG50sqBkw",
        "outputId": "498fa185-7d6d-4c46-b5c1-bc460c453add"
      },
      "execution_count": 7,
      "outputs": [
        {
          "output_type": "stream",
          "name": "stdout",
          "text": [
            "A/B Testing Results\n",
            "Z-score: -1.1365075404030447 | P-value: 0.2557442115851094\n",
            "No significant difference in CTR.\n"
          ]
        }
      ]
    },
    {
      "cell_type": "markdown",
      "source": [
        "There is no statistically significant difference in click-through rates between ads placed at the Top and Bottom positions. This suggests that ad position alone may not be a strong factor influencing user engagement, or the sample size may not be large enough to detect a subtle effect."
      ],
      "metadata": {
        "id": "5fQmf5eatwA0"
      }
    },
    {
      "cell_type": "code",
      "source": [
        "# Covariate Shift Detection\n",
        "df_train = pd.read_csv('train.csv')\n",
        "df_test1 = pd.read_csv('test1.csv')\n",
        "df_test2 = pd.read_csv('test2.csv')\n",
        "\n",
        "feature = 'NO2(GT)'  # Column to test\n",
        "ks_stat_test1, p_val_test1 = ks_2samp(df_train[feature].dropna(), df_test1[feature].dropna())\n",
        "ks_stat_test2, p_val_test2 = ks_2samp(df_train[feature].dropna(), df_test2[feature].dropna())\n",
        "\n",
        "print(\"\\nCovariate Shift Detection (Kolmogorov–Smirnov Test)\")\n",
        "print(f\"Test1 vs Train => KS: {ks_stat_test1}, p: {p_val_test1}\")\n",
        "print(f\"Test2 vs Train => KS: {ks_stat_test2}, p: {p_val_test2}\")\n",
        "\n",
        "alpha = 0.05\n",
        "if p_val_test1 < alpha:\n",
        "    print(\"test1.csv shows a significant shift.\")\n",
        "else:\n",
        "    print(\"test1.csv does NOT show a significant shift.\")\n",
        "\n",
        "if p_val_test2 < alpha:\n",
        "    print(\"test2.csv shows a significant shift.\")\n",
        "else:\n",
        "    print(\"test2.csv does NOT show a significant shift.\")"
      ],
      "metadata": {
        "colab": {
          "base_uri": "https://localhost:8080/"
        },
        "id": "15vYsg6Hq5_t",
        "outputId": "274f563d-a75e-4c86-ae54-982a0f1b3034"
      },
      "execution_count": 8,
      "outputs": [
        {
          "output_type": "stream",
          "name": "stdout",
          "text": [
            "\n",
            "Covariate Shift Detection (Kolmogorov–Smirnov Test)\n",
            "Test1 vs Train => KS: 0.0190625, p: 0.9721940612395358\n",
            "Test2 vs Train => KS: 0.4075, p: 7.2019977111245e-96\n",
            "test1.csv does NOT show a significant shift.\n",
            "test2.csv shows a significant shift.\n"
          ]
        }
      ]
    },
    {
      "cell_type": "markdown",
      "source": [
        "test2.csv exhibits a clear covariate shift relative to the training data in the NO2(GT) feature, indicating a potential mismatch between training and deployment conditions. In contrast, test1.csv aligns well with the training distribution and can be expected to generalize better under the same model."
      ],
      "metadata": {
        "id": "Qcrej9wutzhT"
      }
    }
  ]
}